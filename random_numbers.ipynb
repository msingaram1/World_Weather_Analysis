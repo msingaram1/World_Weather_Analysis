{
 "cells": [
  {
   "cell_type": "code",
   "execution_count": 1,
   "id": "6c54781b",
   "metadata": {},
   "outputs": [],
   "source": [
    "#Import the random module\n",
    "import random\n",
    "    "
   ]
  },
  {
   "cell_type": "code",
   "execution_count": 6,
   "id": "fbb0fd71",
   "metadata": {},
   "outputs": [
    {
     "data": {
      "text/plain": [
       "50.06000302198872"
      ]
     },
     "execution_count": 6,
     "metadata": {},
     "output_type": "execute_result"
    }
   ],
   "source": [
    "random_number = random.randint(-90,90) + random.random()\n",
    "random_number"
   ]
  },
  {
   "cell_type": "code",
   "execution_count": 7,
   "id": "e32aaf55",
   "metadata": {},
   "outputs": [],
   "source": [
    "import numpy as np"
   ]
  },
  {
   "cell_type": "code",
   "execution_count": 9,
   "id": "f81ee550",
   "metadata": {},
   "outputs": [
    {
     "data": {
      "text/plain": [
       "array([-75.85401929, -67.16895122,  37.23454881,  -7.99961568,\n",
       "        76.76330841,  19.16483577, -33.85404533, -74.05002108,\n",
       "         2.1581555 ,  33.7667784 , -29.14016257,  76.62649738,\n",
       "       -62.22370861, -16.74808127,  17.85439626,  21.69790793,\n",
       "        86.1948015 , -21.64419183,  58.84263558, -52.72745809,\n",
       "       -10.28289917, -52.42410908,  66.806644  ,  25.36743317,\n",
       "        66.35797634, -15.91570009,  -1.65191256, -42.92758144,\n",
       "       -38.67000211,  68.46717918,  60.10906583, -76.80504059,\n",
       "        82.57025918,  -1.95278194,  -4.37137948,  30.57996524,\n",
       "       -66.36018013,  81.01798163, -65.73689074, -17.86328238,\n",
       "        33.75913358,  39.39208876,  48.89258483,  11.80485348,\n",
       "       -77.64330796,  39.49898312,  29.35459689, -54.79220545,\n",
       "        -2.5241026 , -26.15551221])"
      ]
     },
     "execution_count": 9,
     "metadata": {},
     "output_type": "execute_result"
    }
   ],
   "source": [
    "np.random.uniform(-90.000, 90.000, size=50)"
   ]
  },
  {
   "cell_type": "code",
   "execution_count": 10,
   "id": "5d2db65c",
   "metadata": {},
   "outputs": [],
   "source": [
    "import timeit"
   ]
  },
  {
   "cell_type": "code",
   "execution_count": 11,
   "id": "2906a3de",
   "metadata": {},
   "outputs": [
    {
     "name": "stdout",
     "output_type": "stream",
     "text": [
      "49.4 µs ± 5.94 µs per loop (mean ± std. dev. of 7 runs, 10000 loops each)\n"
     ]
    }
   ],
   "source": [
    "%timeit np.random.uniform(-90.000, 90.000, size = 1500)"
   ]
  },
  {
   "cell_type": "code",
   "execution_count": 12,
   "id": "2782e507",
   "metadata": {},
   "outputs": [
    {
     "name": "stdout",
     "output_type": "stream",
     "text": [
      "7.17 ms ± 459 µs per loop (mean ± std. dev. of 7 runs, 100 loops each)\n"
     ]
    }
   ],
   "source": [
    "def latitudes(size):\n",
    "    latitudes = []\n",
    "    x = 0\n",
    "    while x < (size):\n",
    "        random_lat = random.randint(-90, 90) + random.random()\n",
    "        latitudes.append(random_lat)\n",
    "        x += 1\n",
    "    return latitudes\n",
    "# Call the function with 1500.\n",
    "%timeit latitudes(1500)\n"
   ]
  },
  {
   "cell_type": "code",
   "execution_count": null,
   "id": "f3e4b089",
   "metadata": {},
   "outputs": [],
   "source": []
  }
 ],
 "metadata": {
  "kernelspec": {
   "display_name": "PythonData",
   "language": "python",
   "name": "pythondata"
  },
  "language_info": {
   "codemirror_mode": {
    "name": "ipython",
    "version": 3
   },
   "file_extension": ".py",
   "mimetype": "text/x-python",
   "name": "python",
   "nbconvert_exporter": "python",
   "pygments_lexer": "ipython3",
   "version": "3.7.10"
  }
 },
 "nbformat": 4,
 "nbformat_minor": 5
}
